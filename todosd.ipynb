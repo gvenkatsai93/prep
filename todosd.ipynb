{
 "cells": [
  {
   "cell_type": "markdown",
   "metadata": {},
   "source": [
    "# System Design"
   ]
  },
  {
   "cell_type": "code",
   "execution_count": null,
   "metadata": {},
   "outputs": [],
   "source": [
    "# Design a distributed job scheduler.\n",
    "# https://www.youtube.com/watch?v=pzDwYHRzEnk&ab_channel=Jordanhasnolife\n",
    "# https://www.youtube.com/watch?v=Lp8oITg0MiI&ab_channel=Jordanhasnolife"
   ]
  },
  {
   "cell_type": "markdown",
   "metadata": {},
   "source": [
    "# LLD"
   ]
  },
  {
   "cell_type": "code",
   "execution_count": null,
   "metadata": {},
   "outputs": [],
   "source": [
    "# https://github.com/ashishps1/awesome-low-level-design?tab=readme-ov-file\n",
    "\n",
    "# to design a multi-threaded pub-sub system that can support multiple publishers and subscribers. \n",
    "# The focus of the interview was to write a production-ready runnable code using threads.\n",
    "\n",
    "# Have to design a cache. In which a user can insert, fetch, remove data and can also select the eviction policy during runtime. \n",
    "# (eviction policy - protocol by which cache remove the key value pair. eg - LRU (Least Recently Used) - will remove the least used key first, \n",
    "# TimeEviction - based upon certain time the cache will remove the key. etc)\n",
    "\n",
    "\"\"\"\n",
    "Design a Ride sharing application where drivers can offer rides based on origin , destination and number of seats\n",
    "\n",
    "Basic Functionalities :-\n",
    "i) Add Driver\n",
    "ii) Add Rider\n",
    "iii) Create Ride (id , origin , destination and number of seats)\n",
    "iv) Update Ride (id , origin , destination and number of seats)\n",
    "v) Withdraw Ride (id)\n",
    "vi) Close Ride and show amount charged\n",
    "vii) Upgrade Rider to preferred Rider if he/she has done more than 10 trips\n",
    "\n",
    "Design a pricing strategy. Charge should be on the basis of kilometers covered and number of seats.Preferred rider should be charged less\n",
    "\n",
    "Design a driver assignment strategy. Preferred rider should be assigned driver first\n",
    "\n",
    "Draw a HLD diagram showing all the required components , classes , methods and their interaction. Draw an activity diagram to describe Rider journey\n",
    "\n",
    "Design should be extensible and scalable . Should be easy to add/remove functionality\n",
    "\"\"\""
   ]
  },
  {
   "cell_type": "code",
   "execution_count": null,
   "metadata": {},
   "outputs": [],
   "source": []
  },
  {
   "cell_type": "markdown",
   "metadata": {},
   "source": [
    "# DSA"
   ]
  },
  {
   "cell_type": "markdown",
   "metadata": {},
   "source": []
  }
 ],
 "metadata": {
  "language_info": {
   "name": "python"
  }
 },
 "nbformat": 4,
 "nbformat_minor": 2
}
