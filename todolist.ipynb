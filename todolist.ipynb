{
 "cells": [
  {
   "cell_type": "code",
   "execution_count": null,
   "metadata": {},
   "outputs": [],
   "source": [
    "## sliding window  \n",
    "\n",
    "#  https://github.com/doocs/leetcode/blob/main/solution/0300-0399/0395.Longest%20Substring%20with%20At%20Least%20K%20Repeating%20Characters/README_EN.md"
   ]
  },
  {
   "cell_type": "code",
   "execution_count": null,
   "metadata": {},
   "outputs": [],
   "source": [
    "## Dynamic Programming\n",
    "\n",
    "# https://leetcode.com/problems/minimum-cost-to-merge-stones/description/\n",
    "# https://leetcode.com/problems/maximize-total-cost-of-alternating-subarrays/description/"
   ]
  },
  {
   "cell_type": "code",
   "execution_count": 2,
   "metadata": {},
   "outputs": [],
   "source": [
    "### 6/30/2024\n",
    "\n",
    "# https://leetcode.com/problems/house-robber-iv/description/\n",
    "# https://leetcode.com/problems/maximum-tastiness-of-candy-basket/description/\n",
    "# https://leetcode.com/problems/check-if-word-can-be-placed-in-crossword/description/\n",
    "\n",
    "# Graph\n",
    "# https://leetcode.com/problems/minimum-cost-to-reach-city-with-discounts/description/\n",
    "# https://leetcode.com/problems/minimum-cost-to-make-at-least-one-valid-path-in-a-grid/description/\n",
    "# https://leetcode.com/problems/distance-to-a-cycle-in-undirected-graph/description/"
   ]
  },
  {
   "cell_type": "code",
   "execution_count": null,
   "metadata": {},
   "outputs": [],
   "source": [
    "### 7/8/2024\n",
    "\n",
    "# https://leetcode.com/problems/maximum-number-of-ways-to-partition-an-array/description/\n",
    "# https://leetcode.com/problems/minimum-knight-moves/description/\n",
    "# https://leetcode.com/problems/binary-tree-maximum-path-sum/description/\n",
    "# https://leetcode.com/problems/maximum-good-subarray-sum/description/\n",
    "# https://leetcode.com/problems/count-ways-to-make-array-with-product/description/\n",
    "# https://leetcode.com/problems/expressive-words/description/\n",
    "# https://leetcode.com/problems/minimum-impossible-or/description/\n",
    "\n",
    "# https://leetcode.com/discuss/interview-experience/5419120/dream11-sde-2-mumbai-no-offer\n",
    "# https://roadsidecoder.com/course-details\n",
    "# https://leetcode.com/discuss/interview-experience/5422097/Groww-or-SDE2-or-Backend\n",
    "\"\"\"\n",
    "Design a Ride sharing application where drivers can offer rides based on origin , destination and number of seats\n",
    "\n",
    "Basic Functionalities :-\n",
    "i) Add Driver\n",
    "ii) Add Rider\n",
    "iii) Create Ride (id , origin , destination and number of seats)\n",
    "iv) Update Ride (id , origin , destination and number of seats)\n",
    "v) Withdraw Ride (id)\n",
    "vi) Close Ride and show amount charged\n",
    "vii) Upgrade Rider to preferred Rider if he/she has done more than 10 trips\n",
    "\n",
    "Design a pricing strategy. Charge should be on the basis of kilometers covered and number of seats.Preferred rider should be charged less\n",
    "\n",
    "Design a driver assignment strategy. Preferred rider should be assigned driver first\n",
    "\n",
    "Draw a HLD diagram showing all the required components , classes , methods and their interaction. Draw an activity diagram to describe Rider journey\n",
    "\n",
    "Design should be extensible and scalable . Should be easy to add/remove functionality\n",
    "\"\"\"\n",
    "\n",
    "# https://leetcode.com/discuss/interview-experience/5417061/LinkedIn-or-Bengaluru-or-SSE-or-On-Going\n",
    "# https://leetcode.com/discuss/interview-question/5427668/lld-topics-and-design-patterns-design-interview-practice"
   ]
  },
  {
   "cell_type": "code",
   "execution_count": null,
   "metadata": {},
   "outputs": [],
   "source": [
    "# 7/15/2024\n",
    "\n",
    "# https://leetcode.com/discuss/interview-experience/5477195/flipkart-sde2-june-2024-offer"
   ]
  }
 ],
 "metadata": {
  "kernelspec": {
   "display_name": "base",
   "language": "python",
   "name": "python3"
  },
  "language_info": {
   "codemirror_mode": {
    "name": "ipython",
    "version": 3
   },
   "file_extension": ".py",
   "mimetype": "text/x-python",
   "name": "python",
   "nbconvert_exporter": "python",
   "pygments_lexer": "ipython3",
   "version": "3.11.4"
  }
 },
 "nbformat": 4,
 "nbformat_minor": 2
}
