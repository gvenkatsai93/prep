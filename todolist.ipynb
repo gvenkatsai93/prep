{
 "cells": [
  {
   "cell_type": "code",
   "execution_count": null,
   "metadata": {},
   "outputs": [],
   "source": [
    "## sliding window  \n",
    "\n",
    "#  https://github.com/doocs/leetcode/blob/main/solution/0300-0399/0395.Longest%20Substring%20with%20At%20Least%20K%20Repeating%20Characters/README_EN.md"
   ]
  },
  {
   "cell_type": "code",
   "execution_count": null,
   "metadata": {},
   "outputs": [],
   "source": [
    "## Dynamic Programming\n",
    "\n",
    "# https://leetcode.com/problems/minimum-cost-to-merge-stones/description/\n",
    "# https://leetcode.com/problems/maximize-total-cost-of-alternating-subarrays/description/"
   ]
  },
  {
   "cell_type": "code",
   "execution_count": 2,
   "metadata": {},
   "outputs": [],
   "source": [
    "### 6/30/2024\n",
    "\n",
    "# https://leetcode.com/problems/house-robber-iv/description/\n",
    "# https://leetcode.com/problems/maximum-tastiness-of-candy-basket/description/\n",
    "# https://leetcode.com/problems/check-if-word-can-be-placed-in-crossword/description/\n",
    "\n",
    "# Graph\n",
    "# https://leetcode.com/problems/minimum-cost-to-reach-city-with-discounts/description/\n",
    "# https://leetcode.com/problems/minimum-cost-to-make-at-least-one-valid-path-in-a-grid/description/\n",
    "# https://leetcode.com/problems/distance-to-a-cycle-in-undirected-graph/description/"
   ]
  },
  {
   "cell_type": "code",
   "execution_count": null,
   "metadata": {},
   "outputs": [],
   "source": [
    "### 7/8/2024\n",
    "\n",
    "# https://leetcode.com/problems/maximum-number-of-ways-to-partition-an-array/description/\n",
    "# https://leetcode.com/problems/minimum-knight-moves/description/\n",
    "# https://leetcode.com/problems/binary-tree-maximum-path-sum/description/\n",
    "# https://leetcode.com/problems/maximum-good-subarray-sum/description/\n",
    "# https://leetcode.com/problems/count-ways-to-make-array-with-product/description/\n",
    "# https://leetcode.com/problems/expressive-words/description/\n",
    "# https://leetcode.com/problems/minimum-impossible-or/description/\n",
    "\n",
    "# https://leetcode.com/discuss/interview-experience/5419120/dream11-sde-2-mumbai-no-offer\n",
    "# https://roadsidecoder.com/course-details\n",
    "# https://leetcode.com/discuss/interview-experience/5422097/Groww-or-SDE2-or-Backend\n",
    "\n",
    "\n",
    "# https://leetcode.com/discuss/interview-experience/5417061/LinkedIn-or-Bengaluru-or-SSE-or-On-Going\n",
    "# https://leetcode.com/discuss/interview-question/5427668/lld-topics-and-design-patterns-design-interview-practice"
   ]
  },
  {
   "cell_type": "code",
   "execution_count": null,
   "metadata": {},
   "outputs": [],
   "source": [
    "# 7/15/2024\n",
    "\n",
    "# https://leetcode.com/discuss/interview-experience/5477195/flipkart-sde2-june-2024-offer"
   ]
  },
  {
   "cell_type": "code",
   "execution_count": null,
   "metadata": {},
   "outputs": [],
   "source": [
    "# 7/18/2024\n",
    "\n",
    "# Maximum product subarray.\n",
    "# Google group people by common time https://leetcode.com/problems/merge-intervals/description/\n",
    "\n",
    "# LLD\n",
    "# decorator , adapter, singleton\n",
    "# Design Snake & Ladder Game with working solution to be run on the platform. Focus was on design patter, use of classes, execution.\n",
    "\n",
    "# HLD\n",
    "# Design chat service.\n",
    "\n",
    "# c# and dot net\n",
    "\n",
    "# js\n",
    "# how does event loop work in js"
   ]
  },
  {
   "cell_type": "code",
   "execution_count": 1,
   "metadata": {},
   "outputs": [
    {
     "data": {
      "text/plain": [
       "\"\\nPlayers a and b are playing the famous ball score game. there are some balls placed on a table with each with a value on it. game start with a coin toss. \\nheads means a starts, else b starts. winner takes first turn. during each turn a player is allowed to pick at most k balls from table. \\nscore is sum of values of all balls taken by player. b will only pick ball whose sum of digits of ball is maximum, \\nif theres a tie he chooses either one. a doesn't care about that he'll pick any ball. both want to maximize their score so both will play optimally. print the score both a and b will achieve.\\n\""
      ]
     },
     "execution_count": 1,
     "metadata": {},
     "output_type": "execute_result"
    }
   ],
   "source": [
    "# 7/19/2024\n",
    "\n",
    "# DSA\n",
    "# https://leetcode.com/problems/reaching-points/description/\n",
    "# LIS\n",
    "# https://leetcode.com/problems/rotting-oranges/description/\n",
    "# https://leetcode.com/problems/kth-largest-element-in-an-array/description/\n",
    "# https://leetcode.com/problems/minimum-number-of-refueling-stops/description/\n",
    "# https://leetcode.com/problems/maximum-xor-of-two-numbers-in-an-array/description/\n",
    "# https://leetcode.com/problems/task-scheduler-ii/description/\n",
    "\"\"\"\n",
    "Players a and b are playing the famous ball score game. there are some balls placed on a table with each with a value on it. game start with a coin toss. \n",
    "heads means a starts, else b starts. winner takes first turn. during each turn a player is allowed to pick at most k balls from table. \n",
    "score is sum of values of all balls taken by player. b will only pick ball whose sum of digits of ball is maximum, \n",
    "if theres a tie he chooses either one. a doesn't care about that he'll pick any ball. both want to maximize their score so both will play optimally. print the score both a and b will achieve.\n",
    "\"\"\"\n",
    "## Google - https://leetcode.com/discuss/interview-question/5485937/google-mock-l4\n",
    "## https://leetcode.com/problems/minimum-weighted-subgraph-with-the-required-paths/description/\n",
    "# https://leetcode.com/problems/shortest-distance-from-all-buildings/editorial/\n",
    "# https://leetcode.com/problems/count-nodes-with-the-highest-score/description/\n",
    "# https://leetcode.com/problems/sum-of-distances-in-tree/description/\n",
    "# https://leetcode.com/problems/delete-nodes-and-return-forest/description/\n",
    "# https://leetcode.com/problems/maximum-product-of-splitted-binary-tree/description/\n",
    "# https://leetcode.com/problems/number-of-good-leaf-nodes-pairs/description/\n",
    "# https://leetcode.com/problems/add-strings/editorial/\n",
    "# https://leetcode.com/problems/binary-tree-right-side-view/editorial/\n",
    "# https://leetcode.com/problems/powx-n/editorial/\n",
    "# https://leetcode.com/discuss/interview-question/568482/facebook-phone-merge-3-sorted-arrays\n",
    "# (problem similar to lowest common ancestor but in an n-ary tree\n",
    "# https://leetcode.com/problems/buildings-with-an-ocean-view/description/\n",
    "# https://leetcode.com/problems/vertical-order-traversal-of-a-binary-tree/description/\n",
    "# https://leetcode.com/problems/h-index-ii/description/\n",
    "# https://leetcode.com/problems/closest-dessert-cost/description/\n",
    "# https://www.geeksforgeeks.org/problems/smallest-positive-integer-that-can-not-be-represented-as-sum--141631/1\n",
    "# DP - https://www.geeksforgeeks.org/problems/burst-balloons/1\n",
    "# https://www.geeksforgeeks.org/problems/count-the-subarrays-having-product-less-than-k1708/1\n",
    "# https://www.geeksforgeeks.org/problems/count-smaller-elements2214/1\n",
    "# https://leetcode.com/problems/maximal-range-that-each-element-is-maximum-in-it/description/\n",
    "# https://leetcode.com/problems/find-two-non-overlapping-sub-arrays-each-with-target-sum/description/\n",
    "# https://leetcode.com/problems/escape-the-spreading-fire/description/\n",
    "# https://leetcode.com/problems/max-increase-to-keep-city-skyline/description/\n",
    "\n",
    "# System design: \n",
    "# hld\n",
    "# (design a tiktok like system)\n",
    "# how to track current locations for active uber drivers?\n",
    "\n",
    "\n",
    "# lld \n",
    "# (design a cache system)\n",
    "\n",
    "\n",
    "# JS\n",
    "# Object.entries(), Object.fromEntries(), Object.values(), Object.keys()\n",
    "# difference between {} object and map, escpecially when we add objects as keys in map and object in object\n",
    "# currying\n",
    "\n",
    "\n",
    "# C# dot net\n",
    "# first add existing project as reference in current solution\n",
    "# then in dependencies add the project as reference"
   ]
  },
  {
   "cell_type": "code",
   "execution_count": null,
   "metadata": {},
   "outputs": [],
   "source": [
    "# 7/24/2024\n",
    "\n",
    "# https://leetcode.com/problems/construct-string-from-binary-tree/description/\n",
    "# https://leetcode.com/problems/delete-duplicate-folders-in-system/description/\n",
    "# https://leetcode.com/problems/minimum-falling-path-sum/description/\n",
    "# https://leetcode.com/problems/minimum-falling-path-sum-ii/\n",
    "# Delete node in BST\n",
    "# https://leetcode.com/problems/basic-calculator/description/\n",
    "# https://leetcode.com/problems/dot-product-of-two-sparse-vectors/description/\n",
    "# follow up: what if the vectors are millions elements long and storing them in a hash-table would lead to collisions? answer: use a linked list to store the vectors\n",
    "# https://leetcode.com/problems/moving-average-from-data-stream/description/\n",
    "# https://leetcode.com/problems/random-pick-with-weight/description/\n",
    "# https://leetcode.com/problems/find-k-closest-elements/description/\n",
    "# desing stack with queue, circular queue and othere design related questions\n",
    "# mono queue and monotonic stack\n",
    "\n",
    "\n",
    "# C# dot net\n",
    "# Func<> and Action<>, http status codes diff btw 404 & 401,\n",
    "# Parallel.ForEach() and Task.Run() diff, async await,\n",
    "# \n",
    "# Awesome Design Patterns - https://github.com/DovAmir/awesome-design-patterns?tab=readme-ov-file \n"
   ]
  },
  {
   "cell_type": "code",
   "execution_count": null,
   "metadata": {},
   "outputs": [],
   "source": [
    "# https://leetcode.com/discuss/interview-experience/5553715/amazon-sde2-l5\n",
    "# https://leetcode.com/problems/range-sum-query-mutable/description/\n",
    "# https://leetcode.com/problems/01-matrix/description/"
   ]
  },
  {
   "cell_type": "markdown",
   "metadata": {},
   "source": [
    "### Avalara Prep\n",
    "\n",
    "- microservices vs monolith, design db for microservices\n",
    "\n",
    "\n",
    "##### C#\n",
    "\n",
    "- GetAwaiter()\n",
    "- Parallel.ForEach, Task.Run, async await, async void, async Task, async Task<T>, async Task.WhenAll, async Task.WhenAny, async Task.ContinueWith, async Task.Run, async Task.ConfigureAwait,\n",
    "- top level important data structures in c# and usages\n",
    "\n",
    "##### SQL\n",
    "\n",
    "- Indexing\n",
    "- Query optimization\n",
    "- Transactions\n",
    "- Locks\n",
    "- Deadlocks\n",
    "- Isolation levels\n",
    "- ACID properties\n",
    "- Normalization\n",
    "- Denormalization\n",
    "- Interveiw questions\n",
    "\n",
    "\n",
    "##### Design Patterns\n",
    "\n",
    "- Solid principles\n",
    "\n",
    "\n",
    "##### UI / React\n",
    "\n",
    "- React hooks\n",
    "- React lifecycle methods\n",
    "- Event bubbling\n",
    "- Closure, debouncing, throttling\n",
    "- React context\n",
    "- React portals\n",
    "- React higher order components\n",
    "- React render props\n",
    "- React lazy, suspense\n",
    "- React memo\n",
    "- React forward refs\n",
    "\n"
   ]
  },
  {
   "cell_type": "code",
   "execution_count": null,
   "metadata": {},
   "outputs": [],
   "source": [
    "# To look into ADF"
   ]
  }
 ],
 "metadata": {
  "kernelspec": {
   "display_name": "base",
   "language": "python",
   "name": "python3"
  },
  "language_info": {
   "codemirror_mode": {
    "name": "ipython",
    "version": 3
   },
   "file_extension": ".py",
   "mimetype": "text/x-python",
   "name": "python",
   "nbconvert_exporter": "python",
   "pygments_lexer": "ipython3",
   "version": "3.11.4"
  }
 },
 "nbformat": 4,
 "nbformat_minor": 2
}
