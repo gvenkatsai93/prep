{
 "cells": [
  {
   "cell_type": "code",
   "execution_count": null,
   "metadata": {},
   "outputs": [],
   "source": [
    "from typing import List\n"
   ]
  },
  {
   "cell_type": "code",
   "execution_count": null,
   "metadata": {},
   "outputs": [],
   "source": [
    "# https://leetcode.com/problems/minimize-the-maximum-difference-of-pairs/\n",
    "\n",
    "\"\"\"\n",
    "Input: nums = [10,1,2,7,1,3], p = 2\n",
    "Output: 1\n",
    "Explanation: The first pair is formed from the indices 1 and 4, and the second pair is formed from the indices 2 and 5. \n",
    "The maximum difference is max(|nums[1] - nums[4]|, |nums[2] - nums[5]|) = max(0, 1) = 1. Therefore, we return 1.\n",
    "\"\"\"\n",
    "\n",
    "class Solution:\n",
    "    def minimizeMax(self, nums: List[int], p: int) -> int:\n",
    "        nums.sort()\n",
    "\n",
    "        def check(nums, mid, p):\n",
    "            i = 1\n",
    "            while i < len(nums):\n",
    "                if nums[i]-nums[i-1] <= mid:\n",
    "                    p -= 1\n",
    "                    i += 1\n",
    "                    if p <= 0 : return True\n",
    "                i += 1\n",
    "            return p <= 0\n",
    "\n",
    "        l, r = 0, nums[-1] - nums[0]\n",
    "        ans = -1\n",
    "        while l <= r:\n",
    "            mid = l + (r - l) // 2\n",
    "            if check(nums, mid, p):\n",
    "               # print(mid)\n",
    "                ans = mid\n",
    "                r = mid-1\n",
    "            else:\n",
    "                l = mid+1\n",
    "        return ans\n"
   ]
  },
  {
   "cell_type": "code",
   "execution_count": null,
   "metadata": {},
   "outputs": [],
   "source": [
    "# https://leetcode.com/problems/house-robber-iv/solutions/3143741/binary-search-c-with-similar-problems/\n",
    "# Minimum of maximum\n",
    "\"\"\"\n",
    "Input: nums = [2,7,9,3,1], k = 2\n",
    "Output: 2\n",
    "Explanation: There are 7 ways to rob the houses. The way which leads to minimum capability is to rob the house at index 0 and 4. Return max(nums[0], nums[4]) = 2.\n",
    "\"\"\"\n",
    "\n",
    "class Solution:\n",
    "    def minCapability(self, nums: List[int], k: int) -> int:\n",
    "        def helper(nums, mid, k):\n",
    "            i, n = 0, len(nums)\n",
    "            while i < n:\n",
    "                if nums[i] <= mid:\n",
    "                    k -= 1\n",
    "                    i += 2\n",
    "                else:\n",
    "                    i += 1\n",
    "                if k == 0: return True\n",
    "            return k <= 0\n",
    "        l, h = 0, 1000000000\n",
    "        while l < h:\n",
    "            mid = l + (h - l) // 2\n",
    "            if (helper(nums, mid, k)):\n",
    "                h = mid\n",
    "            else:\n",
    "                l = mid+1\n",
    "        return l\n",
    "        "
   ]
  }
 ],
 "metadata": {
  "language_info": {
   "name": "python"
  }
 },
 "nbformat": 4,
 "nbformat_minor": 2
}
