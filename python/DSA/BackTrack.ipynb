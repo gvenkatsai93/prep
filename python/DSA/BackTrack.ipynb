{
 "cells": [
  {
   "cell_type": "code",
   "execution_count": null,
   "metadata": {},
   "outputs": [],
   "source": [
    "#### https://leetcode.com/problems/sudoku-solver/description/"
   ]
  },
  {
   "cell_type": "code",
   "execution_count": null,
   "metadata": {},
   "outputs": [],
   "source": [
    "#### https://leetcode.com/problems/unique-paths-iii/description/\n",
    "#### 1 represents the starting square. 2 represents the ending square. 0 represents the empty square. -1 represents an obstacle.\n",
    "\n",
    "from typing import List\n",
    "\n",
    "class Solution:\n",
    "    def uniquePathsIII(self, grid: List[List[int]]) -> int:\n",
    "        m, n = len(grid), len(grid[0])\n",
    "        \n",
    "        # iterate through the grid to get relevant info\n",
    "        start = None  # to store starting point\n",
    "        count = 0  # to count number of squares to walk over\n",
    "        for i in range(m):\n",
    "            for j in range(n):\n",
    "                count += grid[i][j] == 0\n",
    "                if not start and grid[i][j] == 1:\n",
    "                    start = (i, j)\n",
    "        \n",
    "        def backtrack(i: int, j: int) -> int:\n",
    "            nonlocal count\n",
    "            result = 0\n",
    "            for x, y in ((i-1, j), (i+1, j), (i, j-1), (i, j+1)):\n",
    "                # border check\n",
    "                if 0 <= x < m and 0 <= y < n:\n",
    "                    if grid[x][y] == 0:\n",
    "                        # traverse down this path\n",
    "                        grid[x][y] = -1\n",
    "                        count -= 1\n",
    "                        result += backtrack(x, y)\n",
    "                        # backtrack and reset\n",
    "                        grid[x][y] = 0\n",
    "                        count += 1\n",
    "                    elif grid[x][y] == 2:\n",
    "                        # check if all squares have been walked over\n",
    "                        result += count == 0\n",
    "            return result\n",
    "        \n",
    "        # perform DFS + backtracking to find valid paths\n",
    "        return backtrack(start[0], start[1])"
   ]
  },
  {
   "cell_type": "code",
   "execution_count": null,
   "metadata": {},
   "outputs": [],
   "source": [
    "# https://leetcode.com/problems/expression-add-operators/description/\n",
    "# Input: num = \"123\", target = 6   Output: [\"1*2*3\",\"1+2+3\"]\n",
    "\n",
    "class Solution:\n",
    "    def addOperators(self, num: str, target: int) -> List[str]:\n",
    "        ans = []\n",
    "        self.backtrack(num, target, 0, 0, \"\", 0, ans)\n",
    "        return ans\n",
    "    \n",
    "    def backtrack(self, num: str, target: int, current: int, index: int, temp: str, prev: int, ans: List[str]):\n",
    "        if index == len(num) and current == target:\n",
    "            ans.append(temp)\n",
    "            return\n",
    "        \n",
    "        if index == len(num):\n",
    "            return\n",
    "        \n",
    "        cnum = 0\n",
    "        snum = \"\"\n",
    "        \n",
    "        for i in range(index, len(num)):\n",
    "            if i > index and num[index] == '0':\n",
    "                break\n",
    "            \n",
    "            cnum = cnum * 10 + int(num[i])\n",
    "            snum += num[i]\n",
    "            \n",
    "            if index == 0:\n",
    "                self.backtrack(num, target, cnum, i + 1, snum, cnum, ans)\n",
    "            else:\n",
    "                self.backtrack(num, target, current + cnum, i + 1, temp + '+' + snum, cnum, ans)\n",
    "                self.backtrack(num, target, current - cnum, i + 1, temp + '-' + snum, -cnum, ans)\n",
    "                self.backtrack(num, target, current - prev + prev * cnum, i + 1, temp + '*' + snum, prev * cnum, ans)\n"
   ]
  }
 ],
 "metadata": {
  "language_info": {
   "name": "python"
  }
 },
 "nbformat": 4,
 "nbformat_minor": 2
}
