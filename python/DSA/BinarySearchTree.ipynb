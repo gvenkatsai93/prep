{
 "cells": [
  {
   "cell_type": "code",
   "execution_count": null,
   "metadata": {},
   "outputs": [],
   "source": [
    "# https://leetcode.com/problems/convert-sorted-list-to-binary-search-tree/\n",
    "\n",
    "class Solution:\n",
    "    # Simple nums sorted array to BST\n",
    "\n",
    "    def sortedArrayToBST(self, nums: List[int]) -> Optional[TreeNode]:\n",
    "        if not nums: return None\n",
    "        mid = len(nums) // 2\n",
    "        root = TreeNode(nums[mid])\n",
    "        root.left = self.sortedArrayToBST(nums[:mid])\n",
    "        root.right = self.sortedArrayToBST(nums[mid+1:])\n",
    "        return root\n",
    "\n",
    "    # LinkedList Sorted List to BST\n",
    "    def sortedListToBST(self, head: Optional[ListNode]) -> Optional[TreeNode]:\n",
    "\n",
    "        def findMid(head):\n",
    "            if head is None or head.next is None: return head\n",
    "            \n",
    "            slow, fast, prev = head, head, None\n",
    "            while fast is not None and fast.next is not None:\n",
    "                prev = slow\n",
    "                slow = slow.next\n",
    "                fast = fast.next.next\n",
    "            \n",
    "            if prev is not None: prev.next = None\n",
    "            \n",
    "            return slow\n",
    "\n",
    "        if head is None: return None\n",
    "\n",
    "        mid = findMid(head)\n",
    "        if mid is None: return None\n",
    "\n",
    "        root = TreeNode(mid.val)\n",
    "        if head == mid: return root\n",
    "\n",
    "        root.left = self.sortedListToBST(head)\n",
    "        root.right = self.sortedListToBST(mid.next)\n",
    "        return root\n",
    "\n",
    "        "
   ]
  }
 ],
 "metadata": {
  "kernelspec": {
   "display_name": "base",
   "language": "python",
   "name": "python3"
  },
  "language_info": {
   "codemirror_mode": {
    "name": "ipython",
    "version": 3
   },
   "file_extension": ".py",
   "mimetype": "text/x-python",
   "name": "python",
   "nbconvert_exporter": "python",
   "pygments_lexer": "ipython3",
   "version": "3.11.4"
  }
 },
 "nbformat": 4,
 "nbformat_minor": 2
}
