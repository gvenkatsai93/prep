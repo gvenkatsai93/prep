{
 "cells": [
  {
   "cell_type": "code",
   "execution_count": null,
   "metadata": {},
   "outputs": [],
   "source": [
    "#### https://github.com/doocs/leetcode/blob/main/solution/1000-1099/1062.Longest%20Repeating%20Substring/README_EN.md\n",
    "#### Longest repeating substring - non overlappping\n",
    "#### Google\n",
    "\n",
    "\"\"\"\n",
    "Input: s = \"abbaba\"\n",
    "Output: 2\n",
    "Explanation: The longest repeating substrings are \"ab\" and \"ba\", each of which occurs twice.\n",
    "\"\"\"\n",
    "\n",
    "class Solution:\n",
    "    def longestRepeatingSubString(s):\n",
    "        n = len(s)\n",
    "        dp = [[0]*n for _ in range(n)]\n",
    "        ans = 0\n",
    "        for i in range(n):\n",
    "            for j in range(i+1):\n",
    "                if s[i] == s[j]:\n",
    "                    dp[i][j] = dp[i-1][j-1] + 1 if i > 0 and j > 0 else 1\n",
    "                    ans = max(ans, dp[i][j])\n",
    "\n",
    "        return ans\n",
    "    \n",
    "# Time complexity: O(n^2)\n",
    "# Space complexity: O(n^2)"
   ]
  },
  {
   "cell_type": "code",
   "execution_count": null,
   "metadata": {},
   "outputs": [],
   "source": [
    "#### https://www.geeksforgeeks.org/problems/mobile-numeric-keypad5456/1\n",
    "#### Flipkart"
   ]
  },
  {
   "cell_type": "code",
   "execution_count": null,
   "metadata": {},
   "outputs": [],
   "source": [
    "#### https://leetcode.com/problems/maximum-total-damage-with-spell-casting/description/"
   ]
  },
  {
   "cell_type": "code",
   "execution_count": null,
   "metadata": {},
   "outputs": [],
   "source": [
    "#### Find the length of longest increasing subsequence such that the difference between consecutive elements in LIS is an increasing sequence\n",
    "\n",
    "\"\"\"\n",
    "private static Map<String, Integer> map;\n",
    "\n",
    "public static void main(String[] args) {\n",
    "    map = new HashMap<>();\n",
    "    int[] nums = new int[]{1, 2, 3, 4, 5, 6};\n",
    "    System.out.println(lisWithLisDelta(0, -1, 0, nums));\n",
    "    nums = new int[]{1, 11, 12, 14};\n",
    "    map = new HashMap<>();\n",
    "    System.out.println(lisWithLisDelta(0, -1, 0, nums));\n",
    "}\n",
    "\n",
    "private static int lisWithLisDelta(int index, int prevIndex, int prevDelta, int[] nums){\n",
    "    if(index == nums.length)\n",
    "        return 0;\n",
    "    String key = index +\"_\"+ prevIndex + \"_\" + prevDelta;\n",
    "    \n",
    "    if(map.containsKey(key)){\n",
    "        return map.get(key);\n",
    "    }\n",
    "        \n",
    "    \n",
    "    int result = 0;\n",
    "\n",
    "    if(prevIndex != -1 && (nums[prevIndex] >= nums[index] || prevDelta >= nums[index] - nums[prevIndex])){\n",
    "        result = lisWithLisDelta(index + 1, prevIndex, prevDelta, nums);\n",
    "    } else{\n",
    "        result = Math.max(1 + lisWithLisDelta(index + 1, index, prevIndex == -1 ? 0 : nums[index] - nums[prevIndex], nums), lisWithLisDelta(index + 1, prevIndex, prevDelta, nums));\n",
    "    }\n",
    "        map.put(key, result);\n",
    "    \n",
    "    return result;\n",
    "}\n",
    "\"\"\""
   ]
  }
 ],
 "metadata": {
  "kernelspec": {
   "display_name": "base",
   "language": "python",
   "name": "python3"
  },
  "language_info": {
   "codemirror_mode": {
    "name": "ipython",
    "version": 3
   },
   "file_extension": ".py",
   "mimetype": "text/x-python",
   "name": "python",
   "nbconvert_exporter": "python",
   "pygments_lexer": "ipython3",
   "version": "3.11.4"
  }
 },
 "nbformat": 4,
 "nbformat_minor": 2
}
