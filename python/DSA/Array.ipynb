{
 "cells": [
  {
   "cell_type": "code",
   "execution_count": null,
   "metadata": {},
   "outputs": [],
   "source": [
    "from typing import List\n"
   ]
  },
  {
   "cell_type": "code",
   "execution_count": null,
   "metadata": {},
   "outputs": [],
   "source": [
    "#### prime\n",
    "#### https://www.geeksforgeeks.org/problems/sum-of-prime4751/1"
   ]
  },
  {
   "cell_type": "code",
   "execution_count": null,
   "metadata": {},
   "outputs": [],
   "source": [
    "### https://leetcode.com/problems/count-k-subsequences-of-a-string-with-maximum-beauty/description/\n",
    "### Google\n",
    "\n",
    "\"\"\"\n",
    "suppose we have s = \"aabbcc\", k = 3\n",
    "then we can have 2 * 2 * 2 = 8 subsequences\n",
    "\n",
    "Now s = \"aabbcc\", k = 2\n",
    "combination of 3 to fill two slots 3C2 = 3 times (2*2) = 3 * 4 = 12\n",
    "refer below explanation - https://leetcode.com/problems/count-k-subsequences-of-a-string-with-maximum-beauty/solutions/3993253/pictures-greedy-math-easy-to-understand-guaranteed/\n",
    "\n",
    "\"\"\"\n",
    "\n",
    "from math import comb\n",
    "from typing import Counter\n",
    "\n",
    "class Solution:\n",
    "    def countKSubsequencesWithMaxBeauty(self, s: str, k: int) -> int:\n",
    "        mod = 10 **9 + 7\n",
    "        counter = Counter(s)\n",
    "        if len(counter) < k : return 0\n",
    "        freq = Counter(counter.values())\n",
    "        pairs = list(sorted(freq.items(), reverse=True))\n",
    "        ans = 1\n",
    "        for fc, occ in pairs:\n",
    "            if occ <= k:\n",
    "                ans = (ans * pow(fc, occ, mod)) % mod\n",
    "                k -= occ\n",
    "            else:\n",
    "                ans = (ans * comb(occ, k) * pow(fc, k, mod)) % mod\n",
    "                break\n",
    "        \n",
    "        return ans % mod\n",
    "        "
   ]
  },
  {
   "cell_type": "code",
   "execution_count": null,
   "metadata": {},
   "outputs": [],
   "source": [
    "### https://leetcode.com/problems/minimum-number-of-k-consecutive-bit-flips/\n",
    "\n",
    "\"\"\"\n",
    "class Solution {\n",
    "public:\n",
    "    int minKBitFlips(vector<int>& nums, int k) {\n",
    "        int n = nums.size();\n",
    "        int flipped = 0;\n",
    "        int ans = 0;\n",
    "        vector<int> isFlipped(n, 0);\n",
    "\n",
    "        for (int i=0; i<n; i++) {\n",
    "            if (i >= k) {\n",
    "                flipped ^= isFlipped[i-k];\n",
    "            }\n",
    "\n",
    "            if (flipped == nums[i]) {\n",
    "                if (i+k > n) return -1;\n",
    "                isFlipped[i] = 1;\n",
    "                flipped ^= 1;\n",
    "                ans++;\n",
    "            }\n",
    "        }\n",
    "\n",
    "        return ans;\n",
    "    }\n",
    "};\n",
    "\"\"\""
   ]
  },
  {
   "cell_type": "code",
   "execution_count": null,
   "metadata": {},
   "outputs": [],
   "source": [
    "# https://leetcode.com/problems/count-subarrays-with-fixed-bounds/description/\n",
    "# Important\n",
    "\n",
    "\"\"\"\n",
    "Input: nums = [1,3,5,2,7,5], minK = 1, maxK = 5\n",
    "Output: 2\n",
    "Explanation: The fixed-bound subarrays are [1,3,5] and [1,3,5,2].\n",
    "\"\"\"\n",
    "\n",
    "class Solution:\n",
    "    def countSubarrays(self, A: List[int], minK: int, maxK: int) -> int:\n",
    "        res = 0\n",
    "        jmin = jmax = jbad = -1\n",
    "        for i,a in enumerate(A):\n",
    "            if not minK <= a <= maxK: jbad = i\n",
    "            if a == minK: jmin = i\n",
    "            if a == maxK: jmax = i\n",
    "            res += max(0, min(jmin, jmax) - jbad)\n",
    "        return res\n",
    "        "
   ]
  }
 ],
 "metadata": {
  "language_info": {
   "name": "python"
  }
 },
 "nbformat": 4,
 "nbformat_minor": 2
}
