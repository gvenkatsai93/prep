{
 "cells": [
  {
   "cell_type": "code",
   "execution_count": null,
   "metadata": {},
   "outputs": [],
   "source": [
    "# https://leetcode.com/problems/create-binary-tree-from-descriptions/description/\n",
    "\n",
    "# Input: descriptions = [[20,15,1],[20,17,0],[50,20,1],[50,80,0],[80,19,1]]\n",
    "# 1 - left child, 0 - right child\n",
    "# Output: [50,20,80,15,17,19]\n",
    "\n",
    "class Solution:\n",
    "    def createBinaryTree(self, descriptions: List[List[int]]) -> Optional[TreeNode]:\n",
    "        children = set()\n",
    "        m = {}\n",
    "        for p, c, l in descriptions:\n",
    "            np = m.setdefault(p, TreeNode(p))\n",
    "            nc = m.setdefault(c, TreeNode(c))\n",
    "            if l:\n",
    "                np.left = nc\n",
    "            else:\n",
    "                np.right = nc\n",
    "            children.add(c)\n",
    "        root = (set(m) - set(children)).pop()\n",
    "        return m[root]\n",
    "\n",
    "class Solution:\n",
    "    def createBinaryTree(self, descriptions: List[List[int]]) -> Optional[TreeNode]:\n",
    "        mp = {}\n",
    "        seen = set()\n",
    "        for p, c, left in descriptions: \n",
    "            if p not in mp: mp[p] = TreeNode(p)\n",
    "            if c not in mp: mp[c] = TreeNode(c)\n",
    "            if left: mp[p].left = mp[c]\n",
    "            else: mp[p].right = mp[c]\n",
    "            seen.add(c)\n",
    "        for p, _, _ in descriptions: \n",
    "            if p not in seen: return mp[p]"
   ]
  }
 ],
 "metadata": {
  "language_info": {
   "name": "python"
  }
 },
 "nbformat": 4,
 "nbformat_minor": 2
}
