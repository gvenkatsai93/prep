{
 "cells": [
  {
   "cell_type": "code",
   "execution_count": null,
   "metadata": {},
   "outputs": [],
   "source": [
    "#### Arrays"
   ]
  },
  {
   "cell_type": "code",
   "execution_count": null,
   "metadata": {},
   "outputs": [],
   "source": [
    "#### strings"
   ]
  },
  {
   "cell_type": "code",
   "execution_count": 3,
   "metadata": {},
   "outputs": [
    {
     "name": "stdout",
     "output_type": "stream",
     "text": [
      "[1, 2, 3, 4, 5]\n",
      "[5, 4, 3, 2, 1]\n",
      "[[1, 2], [3, 4], [5, 6]]\n",
      "[[5, 6], [3, 4], [1, 2]]\n"
     ]
    }
   ],
   "source": [
    "#### sort\n",
    "\n",
    "arr = [1, 2, 3, 4, 5]\n",
    "arr.sort() # sort in place\n",
    "print(arr) # [1, 2, 3, 4, 5]\n",
    "\n",
    "arr.sort(reverse=True) # sort in place\n",
    "print(arr) # [5, 4, 3, 2, 1]\n",
    "\n",
    "arr = [[1, 2], [3, 4], [5, 6]]\n",
    "arr.sort(key=lambda x: x[1]) # sort by second element\n",
    "print(arr) # [[1, 2], [3, 4], [5, 6]]\n",
    "\n",
    "arr.sort(key=lambda x: -x[0]) # sort by first element\n",
    "print(arr) # [[5, 6], [3, 4], [1, 2]]"
   ]
  },
  {
   "cell_type": "code",
   "execution_count": 1,
   "metadata": {},
   "outputs": [
    {
     "name": "stdout",
     "output_type": "stream",
     "text": [
      "Counter({1: 1, 2: 1, 3: 1, 4: 1, 5: 1, 6: 1, 7: 1, 8: 1, 9: 1, 10: 1})\n"
     ]
    }
   ],
   "source": [
    "#### Counter\n",
    "from collections import Counter\n",
    "a = [1, 2, 3, 4, 5, 6, 7, 8, 9, 10]\n",
    "print(Counter(a)) # Counter({1: 1, 2: 1, 3: 1, 4: 1, 5: 1, 6: 1, 7: 1, 8: 1, 9: 1, 10: 1})\n",
    "\n",
    "str1 = \"Hello World\"\n",
    "print(Counter(str1)) # Counter({'l': 3, 'o': 2, 'H': 1, 'e': 1, ' ': 1, 'W': 1, 'r': 1, 'd': 1})"
   ]
  },
  {
   "cell_type": "code",
   "execution_count": 2,
   "metadata": {},
   "outputs": [
    {
     "name": "stdout",
     "output_type": "stream",
     "text": [
      "{'H': 1, 'e': 1, 'l': 3, 'o': 2, ' ': 1, 'W': 1, 'r': 1, 'd': 1}\n",
      "dict_keys(['H', 'e', 'l', 'o', ' ', 'W', 'r', 'd'])\n",
      "dict_values([1, 1, 3, 2, 1, 1, 1, 1])\n",
      "dict_items([('H', 1), ('e', 1), ('l', 3), ('o', 2), (' ', 1), ('W', 1), ('r', 1), ('d', 1)])\n"
     ]
    }
   ],
   "source": [
    "####  dictionary\n",
    "\n",
    "str1 = \"Hello World\"\n",
    "print(dict(Counter(str1))) # {'H': 1, 'e': 1, 'l': 3, 'o': 2, ' ': 1, 'W': 1, 'r': 1, 'd': 1}\n",
    "\n",
    "#### Get all the keys\n",
    "print(Counter(str1).keys()) # dict_keys(['H', 'e', 'l', 'o', ' ', 'W', 'r', 'd'])\n",
    "\n",
    "#### Get all the values\n",
    "print(Counter(str1).values()) # dict_values([1, 1, 3, 2, 1, 1, 1, 1])\n",
    "\n",
    "#### Get all the items\n",
    "print(Counter(str1).items()) "
   ]
  },
  {
   "cell_type": "code",
   "execution_count": 4,
   "metadata": {},
   "outputs": [
    {
     "name": "stdout",
     "output_type": "stream",
     "text": [
      "[1, 2, 3, 4, 5]\n"
     ]
    }
   ],
   "source": [
    "#### map function\n",
    "\n",
    "arr = ['1', '2', '3', '4', '5']\n",
    "\n",
    "arr = list(map(int, arr))\n",
    "\n",
    "print(arr) # [1, 2, 3, 4, 5]"
   ]
  },
  {
   "cell_type": "code",
   "execution_count": 4,
   "metadata": {},
   "outputs": [
    {
     "name": "stdout",
     "output_type": "stream",
     "text": [
      "{1: 111} 111\n"
     ]
    }
   ],
   "source": [
    "m = {}\n",
    "m[1] = 111\n",
    "\n",
    "# setdefault(key, value) --> if key already exists then its value is returned, if not then key is inserted with value\n",
    "\n",
    "val = m.setdefault(1, 11)\n",
    "print(m, val)"
   ]
  },
  {
   "cell_type": "code",
   "execution_count": null,
   "metadata": {},
   "outputs": [],
   "source": []
  }
 ],
 "metadata": {
  "kernelspec": {
   "display_name": "base",
   "language": "python",
   "name": "python3"
  },
  "language_info": {
   "codemirror_mode": {
    "name": "ipython",
    "version": 3
   },
   "file_extension": ".py",
   "mimetype": "text/x-python",
   "name": "python",
   "nbconvert_exporter": "python",
   "pygments_lexer": "ipython3",
   "version": "3.11.4"
  }
 },
 "nbformat": 4,
 "nbformat_minor": 2
}
