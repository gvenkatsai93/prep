{
 "cells": [
  {
   "cell_type": "code",
   "execution_count": 3,
   "metadata": {},
   "outputs": [
    {
     "name": "stdout",
     "output_type": "stream",
     "text": [
      "[9, 8, 7, 6, 5, 4, 3, 2, 1]\n"
     ]
    }
   ],
   "source": [
    "#### Arrays\n",
    "\n",
    "arr = [1, 2, 3, 4, 5]\n",
    "arr.append(6) # add 6 to the end of the list [1, 2, 3, 4, 5, 6]\n",
    "arr.insert(0, 0) # add 0 to the beginning of the list [0, 1, 2, 3, 4, 5, 6]\n",
    "arr.extend([7, 8, 9, 11]) # add 7, 8, 9, 11 to the end of the list [0, 1, 2, 3, 4, 5, 6, 7, 8, 9, 11]\n",
    "arr.remove(11) # remove 11 from the list [0, 1, 2, 3, 4, 5, 6, 7, 8, 9]\n",
    "arr.pop(0) # remove the first element from the list [1, 2, 3, 4, 5, 6, 7, 8, 9]\n",
    "arr.reverse() # reverse the list [9, 8, 7, 6, 5, 4, 3, 2, 1]\n",
    "print(arr)\n",
    "\n",
    "#### Slicing\n",
    "arr = [1, 2, 3, 4, 5, 6, 7, 8, 9]\n",
    "print(arr[0:3]) # [1, 2, 3]\n",
    "print(arr[:3]) # [1, 2, 3]\n",
    "print(arr[3:]) # [4, 5, 6, 7, 8, 9]\n",
    "print(arr[::2]) # [1, 3, 5, 7, 9]\n",
    "print(arr[::-1]) # [9, 8, 7, 6, 5, 4, 3, 2, 1] reverse the list\n",
    "print(arr[1:8:2]) # [2, 4, 6, 8]"
   ]
  },
  {
   "cell_type": "code",
   "execution_count": null,
   "metadata": {},
   "outputs": [],
   "source": [
    "#### strings\n",
    "\n",
    "string = \"Hello, World!\"\n",
    "print(string[0]) # H\n",
    "print(string[1:5]) # ello\n",
    "print(string[:5]) # Hello\n",
    "\n",
    "#### string methods\n",
    "\n",
    "string.isdigit() # False\n",
    "string.isalpha() # False\n",
    "string.islower() # False\n",
    "string.isupper() # False\n",
    "string.isspace() # False\n",
    "string.find(\"World\") # 7\n",
    "string.rfind(\"World\") # 7\n",
    "string.replace(\"World\", \"Python\") # Hello, Python!\n",
    "string.split(\",\") # ['Hello', ' World!']\n",
    "string.strip() # Hello, World!\n"
   ]
  },
  {
   "cell_type": "code",
   "execution_count": 3,
   "metadata": {},
   "outputs": [
    {
     "name": "stdout",
     "output_type": "stream",
     "text": [
      "[1, 2, 3, 4, 5]\n",
      "[5, 4, 3, 2, 1]\n",
      "[[1, 2], [3, 4], [5, 6]]\n",
      "[[5, 6], [3, 4], [1, 2]]\n"
     ]
    }
   ],
   "source": [
    "#### sort\n",
    "\n",
    "arr = [1, 2, 3, 4, 5]\n",
    "arr.sort() # sort in place\n",
    "print(arr) # [1, 2, 3, 4, 5]\n",
    "\n",
    "arr.sort(reverse=True) # sort in place\n",
    "print(arr) # [5, 4, 3, 2, 1]\n",
    "\n",
    "arr = [[1, 2], [3, 4], [5, 6]]\n",
    "arr.sort(key=lambda x: x[1]) # sort by second element\n",
    "print(arr) # [[1, 2], [3, 4], [5, 6]]\n",
    "\n",
    "arr.sort(key=lambda x: -x[0]) # sort by first element\n",
    "print(arr) # [[5, 6], [3, 4], [1, 2]]"
   ]
  },
  {
   "cell_type": "code",
   "execution_count": 1,
   "metadata": {},
   "outputs": [
    {
     "name": "stdout",
     "output_type": "stream",
     "text": [
      "Counter({1: 1, 2: 1, 3: 1, 4: 1, 5: 1, 6: 1, 7: 1, 8: 1, 9: 1, 10: 1})\n"
     ]
    }
   ],
   "source": [
    "#### Counter\n",
    "from collections import Counter\n",
    "a = [1, 2, 3, 4, 5, 6, 7, 8, 9, 10]\n",
    "print(Counter(a)) # Counter({1: 1, 2: 1, 3: 1, 4: 1, 5: 1, 6: 1, 7: 1, 8: 1, 9: 1, 10: 1})\n",
    "\n",
    "str1 = \"Hello World\"\n",
    "print(Counter(str1)) # Counter({'l': 3, 'o': 2, 'H': 1, 'e': 1, ' ': 1, 'W': 1, 'r': 1, 'd': 1})"
   ]
  },
  {
   "cell_type": "code",
   "execution_count": 2,
   "metadata": {},
   "outputs": [
    {
     "name": "stdout",
     "output_type": "stream",
     "text": [
      "{'H': 1, 'e': 1, 'l': 3, 'o': 2, ' ': 1, 'W': 1, 'r': 1, 'd': 1}\n",
      "dict_keys(['H', 'e', 'l', 'o', ' ', 'W', 'r', 'd'])\n",
      "dict_values([1, 1, 3, 2, 1, 1, 1, 1])\n",
      "dict_items([('H', 1), ('e', 1), ('l', 3), ('o', 2), (' ', 1), ('W', 1), ('r', 1), ('d', 1)])\n"
     ]
    }
   ],
   "source": [
    "####  dictionary\n",
    "\n",
    "str1 = \"Hello World\"\n",
    "print(dict(Counter(str1))) # {'H': 1, 'e': 1, 'l': 3, 'o': 2, ' ': 1, 'W': 1, 'r': 1, 'd': 1}\n",
    "\n",
    "#### Get all the keys\n",
    "print(Counter(str1).keys()) # dict_keys(['H', 'e', 'l', 'o', ' ', 'W', 'r', 'd'])\n",
    "\n",
    "#### Get all the values\n",
    "print(Counter(str1).values()) # dict_values([1, 1, 3, 2, 1, 1, 1, 1])\n",
    "\n",
    "#### Get all the items\n",
    "print(Counter(str1).items()) "
   ]
  },
  {
   "cell_type": "code",
   "execution_count": 4,
   "metadata": {},
   "outputs": [
    {
     "name": "stdout",
     "output_type": "stream",
     "text": [
      "[1, 2, 3, 4, 5]\n"
     ]
    }
   ],
   "source": [
    "#### map function\n",
    "\n",
    "arr = ['1', '2', '3', '4', '5']\n",
    "\n",
    "arr = list(map(int, arr))\n",
    "\n",
    "print(arr) # [1, 2, 3, 4, 5]"
   ]
  },
  {
   "cell_type": "code",
   "execution_count": 1,
   "metadata": {},
   "outputs": [
    {
     "name": "stdout",
     "output_type": "stream",
     "text": [
      "{1: 111} 111\n"
     ]
    }
   ],
   "source": [
    "m = {}\n",
    "m[1] = 111\n",
    "\n",
    "# setdefault(key, value) --> if key already exists then its value is returned, if not then key is inserted with value\n",
    "\n",
    "val = m.setdefault(1, 11)\n",
    "print(m, val)"
   ]
  },
  {
   "cell_type": "code",
   "execution_count": null,
   "metadata": {},
   "outputs": [],
   "source": [
    "# Differnt sorting algorithms\n",
    "\n",
    "class Solution:\n",
    "    def sortArray(self, nums: List[int]) -> List[int]:\n",
    "        # self.quickSort(nums)\n",
    "        # self.mergeSort(nums)\n",
    "        # self.bubbleSort(nums)\n",
    "        # self.insertionSort(nums)\n",
    "\t\t# self.selectionSort(nums)\n",
    "        self.heapSort(nums)\n",
    "        return nums\n",
    "    \n",
    "\t# @bubbleSort, TLE\n",
    "    def bubbleSort(self, nums):\n",
    "        n = len(nums)\n",
    "        for i in range(n):\n",
    "            for j in range(0, n - i - 1):\n",
    "                if nums[j] > nums[j + 1]:\n",
    "                    nums[j], nums[j + 1] = nums[j + 1], nums[j]\n",
    "                    \n",
    "\t# @insertionSort, TLE\n",
    "    def insertionSort(self, nums): \n",
    "        for i in range(1, len(nums)): \n",
    "            key = nums[i]\n",
    "            j = i-1\n",
    "            while j >= 0 and key < nums[j] : \n",
    "                    nums[j + 1] = nums[j] \n",
    "                    j -= 1\n",
    "            nums[j + 1] = key\n",
    "\t\t\n",
    "\t# @selectionSort, TLE\n",
    "    def selectionSort(self, nums):\n",
    "        for i in range(len(nums)):\n",
    "            _min = min(nums[i:])\n",
    "            min_index = nums[i:].index(_min)\n",
    "            nums[i + min_index] = nums[i]\n",
    "            nums[i] = _min\n",
    "        return nums\n",
    "    \n",
    "\t# @quickSort\n",
    "    def quickSort(self, nums):\n",
    "        def helper(head, tail):\n",
    "            if head >= tail: return \n",
    "            l, r = head, tail\n",
    "            m = (r - l) // 2 + l\n",
    "            pivot = nums[m]\n",
    "            while r >= l:\n",
    "                while r >= l and nums[l] < pivot: l += 1\n",
    "                while r >= l and nums[r] > pivot: r -= 1\n",
    "                if r >= l:\n",
    "                    nums[l], nums[r] = nums[r], nums[l]\n",
    "                    l += 1\n",
    "                    r -= 1\n",
    "            helper(head, r)\n",
    "            helper(l, tail)\n",
    "\n",
    "        helper(0, len(nums)-1)\n",
    "        return nums\n",
    "     \n",
    "\t# @mergeSort\n",
    "    def mergeSort(self, nums): \n",
    "        if len(nums) > 1: \n",
    "            mid = len(nums)//2\n",
    "            L = nums[:mid] \n",
    "            R = nums[mid:] \n",
    "\n",
    "            self.mergeSort(L)\n",
    "            self.mergeSort(R)\n",
    "\n",
    "            i = j = k = 0\n",
    "\n",
    "            while i < len(L) and j < len(R): \n",
    "                if L[i] < R[j]: \n",
    "                    nums[k] = L[i] \n",
    "                    i+=1\n",
    "                else: \n",
    "                    nums[k] = R[j] \n",
    "                    j+=1\n",
    "                k+=1\n",
    " \n",
    "            while i < len(L): \n",
    "                nums[k] = L[i] \n",
    "                i+=1\n",
    "                k+=1\n",
    "\n",
    "            while j < len(R): \n",
    "                nums[k] = R[j] \n",
    "                j+=1\n",
    "                k+=1\n",
    "   \n",
    "   # @heapSort\n",
    "    def heapSort(self, nums):\n",
    "        def heapify(nums, n, i): \n",
    "            l = 2 * i + 1\n",
    "            r = 2 * i + 2\n",
    "\t\t\t\n",
    "            largest = i\n",
    "            if l < n and nums[largest] < nums[l]: \n",
    "                largest = l \n",
    "\n",
    "            if r < n and nums[largest] < nums[r]: \n",
    "                largest = r \n",
    "\n",
    "            if largest != i: \n",
    "                nums[i], nums[largest] = nums[largest], nums[i]\n",
    "                \n",
    "                heapify(nums, n, largest)\n",
    "                \n",
    "        n = len(nums) \n",
    "\n",
    "        for i in range(n//2+1)[::-1]: \n",
    "            heapify(nums, n, i) \n",
    "\n",
    "        for i in range(n)[::-1]: \n",
    "            nums[i], nums[0] = nums[0], nums[i]\n",
    "            heapify(nums, i, 0) "
   ]
  },
  {
   "cell_type": "code",
   "execution_count": null,
   "metadata": {},
   "outputs": [],
   "source": [
    "# reduce similar to js\n",
    "\n",
    "from functools import reduce\n",
    "class Solution:\n",
    "    def longestCommonPrefix(self, arr):\n",
    "        def prefix(x, y):\n",
    "            ans = \"\"\n",
    "            for i in range(min(len(x), len(y))):\n",
    "                if x[i] == y[i]:\n",
    "                    ans += x[i]\n",
    "                else:\n",
    "                    break\n",
    "            return ans\n",
    "        \n",
    "        if not arr:\n",
    "            return \"-1\"\n",
    "        \n",
    "        ans = reduce(lambda x, y: prefix(x, y), arr)\n",
    "        return \"-1\" if ans == \"\" else ans"
   ]
  }
 ],
 "metadata": {
  "kernelspec": {
   "display_name": "base",
   "language": "python",
   "name": "python3"
  },
  "language_info": {
   "codemirror_mode": {
    "name": "ipython",
    "version": 3
   },
   "file_extension": ".py",
   "mimetype": "text/x-python",
   "name": "python",
   "nbconvert_exporter": "python",
   "pygments_lexer": "ipython3",
   "version": "3.11.4"
  }
 },
 "nbformat": 4,
 "nbformat_minor": 2
}
