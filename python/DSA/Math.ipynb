{
 "cells": [
  {
   "cell_type": "code",
   "execution_count": null,
   "metadata": {},
   "outputs": [],
   "source": [
    "# https://leetcode.com/problems/powx-n/description/\n",
    "\n",
    "class Solution:\n",
    "    def myPow(self, x: float, n: int) -> float:\n",
    "        if n == 0: return 1\n",
    "        if n < 0 : \n",
    "            n = -n\n",
    "            x = 1 / x\n",
    "        return self.myPow(x*x, n//2) if n%2==0 else x*self.myPow(x*x, n//2)"
   ]
  }
 ],
 "metadata": {
  "language_info": {
   "name": "python"
  }
 },
 "nbformat": 4,
 "nbformat_minor": 2
}
