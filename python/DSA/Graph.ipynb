{
 "cells": [
  {
   "cell_type": "code",
   "execution_count": null,
   "metadata": {},
   "outputs": [],
   "source": [
    "from typing import List\n",
    "from collections import defaultdict"
   ]
  },
  {
   "cell_type": "markdown",
   "metadata": {},
   "source": [
    "#### Simple Computation"
   ]
  },
  {
   "cell_type": "code",
   "execution_count": null,
   "metadata": {},
   "outputs": [],
   "source": [
    "# https://leetcode.com/problems/maximum-star-sum-of-a-graph/description/\n",
    "# find maximum star sum of a graph with atmost k edges neighbors to it\n",
    "# pick onlyy positive values from the graph\n",
    "# find all possible stars and then find the maximum sum of the star\n",
    "\n",
    "class Solution:\n",
    "    # just find the center of the graph which has (n-1) edges\n",
    "    def findCenter(self, e: List[List[int]]) -> int:\n",
    "        return e[0][0] if e[0][0] == e[1][0] or e[0][0] == e[1][1] else e[0][1]\n",
    "    \n",
    "    def maxStarSum(self, vals: List[int], edges: List[List[int]], k: int) -> int:\n",
    "        g = collections.defaultdict(set)\n",
    "        for u, v in edges:\n",
    "            if vals[v] > 0 : g[u].add(v)\n",
    "            if vals[u] > 0 : g[v].add(u)\n",
    "\n",
    "        stars = []\n",
    "        for idx , val in enumerate(vals):\n",
    "            vv = [vals[j] for j in g[idx]]\n",
    "            vv.sort(reverse=True)\n",
    "            stars.append(val + sum(vv[:k]))\n",
    "\n",
    "        return max(stars)\n",
    "        "
   ]
  },
  {
   "cell_type": "markdown",
   "metadata": {},
   "source": [
    "#### DFS"
   ]
  },
  {
   "cell_type": "code",
   "execution_count": null,
   "metadata": {},
   "outputs": [],
   "source": [
    "#### https://leetcode.com/problems/word-search/description/\n",
    "\n",
    "def exist(self, board, word):\n",
    "    if not board:\n",
    "        return False\n",
    "    for i in range(len(board)):\n",
    "        for j in range(len(board[0])):\n",
    "            if self.dfs(board, i, j, word):\n",
    "                return True\n",
    "    return False\n",
    "\n",
    "# check whether can find word, start at (i,j) position    \n",
    "def dfs(self, board, i, j, word):\n",
    "    if len(word) == 0: # all the characters are checked\n",
    "        return True\n",
    "    if i<0 or i>=len(board) or j<0 or j>=len(board[0]) or word[0]!=board[i][j]:\n",
    "        return False\n",
    "    tmp = board[i][j]  # first character is found, check the remaining part\n",
    "    board[i][j] = \"#\"  # avoid visit agian \n",
    "    # check whether can find \"word\" along one direction\n",
    "    res = self.dfs(board, i+1, j, word[1:]) or self.dfs(board, i-1, j, word[1:]) \\\n",
    "    or self.dfs(board, i, j+1, word[1:]) or self.dfs(board, i, j-1, word[1:])\n",
    "    board[i][j] = tmp\n",
    "    return res\n",
    "\n",
    "\n",
    "#### https://leetcode.com/problems/word-search-ii/description/\n",
    "\n",
    "class TrieNode:\n",
    "    def __init__(self):\n",
    "        self.children = defaultdict(TrieNode)\n",
    "        self.word = None\n",
    "\n",
    "    def addWord(self, word):\n",
    "        cur = self\n",
    "        for c in word:\n",
    "            cur = cur.children[c]\n",
    "        cur.word = word\n",
    "\n",
    "class Solution:\n",
    "    def findWords(self, board: List[List[str]], words: List[str]) -> List[str]:\n",
    "        m, n = len(board), len(board[0])\n",
    "        DIR = [0, 1, 0, -1, 0]\n",
    "        trieNode = TrieNode()\n",
    "        ans = []\n",
    "        for word in words:\n",
    "            trieNode.addWord(word)\n",
    "\n",
    "        def dfs(r, c, cur):\n",
    "            if r < 0 or r == m or c < 0 or c == n or board[r][c] not in cur.children: return\n",
    "            orgChar = board[r][c]\n",
    "            cur = cur.children[orgChar]\n",
    "            board[r][c] = '#'  # Mark as visited\n",
    "            if cur.word != None:\n",
    "                ans.append(cur.word)\n",
    "                cur.word = None  # Avoid duplication!\n",
    "            for i in range(4): dfs(r + DIR[i], c + DIR[i + 1], cur)\n",
    "            board[r][c] = orgChar  # Restore to org state\n",
    "\n",
    "        for r in range(m):\n",
    "            for c in range(n):\n",
    "                dfs(r, c, trieNode)\n",
    "        return ans"
   ]
  },
  {
   "cell_type": "markdown",
   "metadata": {},
   "source": [
    "### BFS"
   ]
  },
  {
   "cell_type": "code",
   "execution_count": null,
   "metadata": {},
   "outputs": [],
   "source": []
  },
  {
   "cell_type": "markdown",
   "metadata": {},
   "source": [
    "#### Kahn's Algorithm (Topological Sort)"
   ]
  },
  {
   "cell_type": "code",
   "execution_count": null,
   "metadata": {},
   "outputs": [],
   "source": []
  },
  {
   "cell_type": "markdown",
   "metadata": {},
   "source": [
    "#### Dijkstra Algorithm (Priority Queue)"
   ]
  },
  {
   "cell_type": "markdown",
   "metadata": {},
   "source": []
  },
  {
   "cell_type": "code",
   "execution_count": null,
   "metadata": {},
   "outputs": [],
   "source": [
    "# https://leetcode.com/problems/minimum-cost-of-a-path-with-special-roads/description/\n",
    "# https://leetcode.com/problems/minimum-path-sum/description/   \n",
    "# https://leetcode.com/problems/number-of-restricted-paths-from-first-to-last-node/description/\n",
    "# https://leetcode.com/problems/find-root-of-n-ary-tree/description/\n",
    "# https://leetcode.com/problems/maximal-network-rank/description/\n",
    "# https://leetcode.com/problems/minimum-number-of-vertices-to-reach-all-nodes/description/\n",
    "# https://leetcode.com/discuss/interview-question/5366542/all-leetcode-articles-on-coding-patterns-summarized-in-one-page\n",
    "# https://leetcode.com/discuss/interview-question/5377854/flipkart-sde2-machine-coding-round"
   ]
  },
  {
   "cell_type": "markdown",
   "metadata": {},
   "source": [
    "#### Union Find"
   ]
  },
  {
   "cell_type": "markdown",
   "metadata": {},
   "source": []
  }
 ],
 "metadata": {
  "language_info": {
   "name": "python"
  }
 },
 "nbformat": 4,
 "nbformat_minor": 2
}
