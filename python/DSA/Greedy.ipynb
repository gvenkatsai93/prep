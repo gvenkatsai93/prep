{
 "cells": [
  {
   "cell_type": "code",
   "execution_count": null,
   "metadata": {},
   "outputs": [],
   "source": [
    "from typing import List\n"
   ]
  },
  {
   "cell_type": "code",
   "execution_count": null,
   "metadata": {},
   "outputs": [],
   "source": [
    "#### Patching Array\n",
    "#### https://leetcode.com/problems/patching-array/solutions/78492/c-8ms-greedy-solution-with-explanation/?envType=daily-question&envId=2024-06-16"
   ]
  },
  {
   "cell_type": "code",
   "execution_count": null,
   "metadata": {},
   "outputs": [],
   "source": [
    "#### https://leetcode.com/problems/minimum-cost-homecoming-of-a-robot-in-a-grid/description/\n",
    "\n",
    "\"\"\"\n",
    "Input: startPos = [1, 0], homePos = [2, 3], rowCosts = [5, 4, 3], colCosts = [8, 2, 6, 7]\n",
    "Output: 18\n",
    "Explanation: One optimal path is that:\n",
    "Starting from (1, 0)\n",
    "-> It goes down to (2, 0). This move costs rowCosts[2] = 3.\n",
    "-> It goes right to (2, 1). This move costs colCosts[1] = 2.\n",
    "-> It goes right to (2, 2). This move costs colCosts[2] = 6.\n",
    "-> It goes right to (2, 3). This move costs colCosts[3] = 7.\n",
    "The total cost is 3 + 2 + 6 + 7 = 18\n",
    "\"\"\"\n",
    "\n",
    "class Solution:\n",
    "    def minCost(self, startPos: List[int], homePos: List[int], rowCosts: List[int], colCosts: List[int]) -> int:\n",
    "        ans = 0\n",
    "        \n",
    "        x, y = [startPos[0], homePos[0]], [startPos[1], homePos[1]]\n",
    "        if x[0] > x[1]:\n",
    "            x[0], x[1] = x[1], x[0]\n",
    "            \n",
    "        if y[0] > y[1]:\n",
    "            y[0], y[1] = y[1], y[0]\n",
    "        \n",
    "        for i in range(x[0], x[1]+1):\n",
    "            ans += rowCosts[i]\n",
    "            \n",
    "        for i in range(y[0], y[1]+1):\n",
    "            ans += colCosts[i]\n",
    "        \n",
    "        return ans - rowCosts[startPos[0]] - colCosts[startPos[1]]"
   ]
  },
  {
   "cell_type": "code",
   "execution_count": null,
   "metadata": {},
   "outputs": [],
   "source": [
    "# https://leetcode.com/problems/find-valid-matrix-given-row-and-column-sums/description/\n",
    "# given rowSum and colSum, find a valid matrix\n",
    "# greedily fill the current cell with the minimum of the rowSum[i] and colSum[j] of that particular cell, i is the row index and j is the column index\n",
    "\"\"\"\n",
    "Input: rowSum = [5,7,10], colSum = [8,6,8]\n",
    "Output: [[0,5,0], [6,1,0], [2,0,8]]\n",
    "\"\"\"\n",
    "\n",
    "class Solution:\n",
    "    def restoreMatrix(self, rowSum: List[int], colSum: List[int]) -> List[List[int]]:\n",
    "        m, n = len(rowSum), len(colSum)\n",
    "        mat = [[0]*n for _ in range(m)]\n",
    "        for i in range(m):\n",
    "            for j in range(n):\n",
    "                rsum, csum = rowSum[i], colSum[j]\n",
    "                minn = min(rsum, csum)\n",
    "                mat[i][j] = minn\n",
    "                rowSum[i] -= minn\n",
    "                colSum[j] -= minn\n",
    "        return mat\n",
    "        "
   ]
  },
  {
   "cell_type": "code",
   "execution_count": 1,
   "metadata": {},
   "outputs": [],
   "source": [
    "# https://leetcode.com/problems/reconstruct-a-2-row-binary-matrix/description/\n",
    "# Similar to the above problem, but with a constraint that the sum of the ith row should be upper[i] and lower[i]\n",
    "# again check if the colsum[i] is 1, then fill the cell with 1, if upper > lower, fill the cell with 1 in the upper row, else fill the cell with 1 in the lower row\n",
    "\n",
    "class Solution:\n",
    "    def reconstructMatrix(self, upper: int, lower: int, colsum: List[int]) -> List[List[int]]:\n",
    "        n = len(colsum)\n",
    "        upper_list = [0] * n\n",
    "        lower_list = [0] * n\n",
    "\n",
    "        for idx, val in enumerate(colsum):\n",
    "            if val == 1:\n",
    "                if upper > lower:\n",
    "                    upper_list[idx] = 1\n",
    "                    upper -= 1\n",
    "                else:\n",
    "                    lower_list[idx] = 1\n",
    "                    lower -= 1\n",
    "            elif val == 2:\n",
    "                upper_list[idx] = lower_list[idx] = 1\n",
    "                upper, lower = upper-1, lower-1\n",
    "        \n",
    "        return [upper_list, lower_list] if upper == lower == 0 else []"
   ]
  },
  {
   "cell_type": "code",
   "execution_count": null,
   "metadata": {},
   "outputs": [],
   "source": []
  }
 ],
 "metadata": {
  "kernelspec": {
   "display_name": "base",
   "language": "python",
   "name": "python3"
  },
  "language_info": {
   "codemirror_mode": {
    "name": "ipython",
    "version": 3
   },
   "file_extension": ".py",
   "mimetype": "text/x-python",
   "name": "python",
   "nbconvert_exporter": "python",
   "pygments_lexer": "ipython3",
   "version": "3.11.4"
  }
 },
 "nbformat": 4,
 "nbformat_minor": 2
}
