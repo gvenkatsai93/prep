{
 "cells": [
  {
   "cell_type": "code",
   "execution_count": null,
   "metadata": {},
   "outputs": [],
   "source": [
    "from typing import List\n"
   ]
  },
  {
   "cell_type": "code",
   "execution_count": null,
   "metadata": {},
   "outputs": [],
   "source": [
    "#### Patching Array\n",
    "#### https://leetcode.com/problems/patching-array/solutions/78492/c-8ms-greedy-solution-with-explanation/?envType=daily-question&envId=2024-06-16"
   ]
  },
  {
   "cell_type": "code",
   "execution_count": null,
   "metadata": {},
   "outputs": [],
   "source": [
    "#### https://leetcode.com/problems/minimum-cost-homecoming-of-a-robot-in-a-grid/description/\n",
    "\n",
    "\"\"\"\n",
    "Input: startPos = [1, 0], homePos = [2, 3], rowCosts = [5, 4, 3], colCosts = [8, 2, 6, 7]\n",
    "Output: 18\n",
    "Explanation: One optimal path is that:\n",
    "Starting from (1, 0)\n",
    "-> It goes down to (2, 0). This move costs rowCosts[2] = 3.\n",
    "-> It goes right to (2, 1). This move costs colCosts[1] = 2.\n",
    "-> It goes right to (2, 2). This move costs colCosts[2] = 6.\n",
    "-> It goes right to (2, 3). This move costs colCosts[3] = 7.\n",
    "The total cost is 3 + 2 + 6 + 7 = 18\n",
    "\"\"\"\n",
    "\n",
    "class Solution:\n",
    "    def minCost(self, startPos: List[int], homePos: List[int], rowCosts: List[int], colCosts: List[int]) -> int:\n",
    "        ans = 0\n",
    "        \n",
    "        x, y = [startPos[0], homePos[0]], [startPos[1], homePos[1]]\n",
    "        if x[0] > x[1]:\n",
    "            x[0], x[1] = x[1], x[0]\n",
    "            \n",
    "        if y[0] > y[1]:\n",
    "            y[0], y[1] = y[1], y[0]\n",
    "        \n",
    "        for i in range(x[0], x[1]+1):\n",
    "            ans += rowCosts[i]\n",
    "            \n",
    "        for i in range(y[0], y[1]+1):\n",
    "            ans += colCosts[i]\n",
    "        \n",
    "        return ans - rowCosts[startPos[0]] - colCosts[startPos[1]]"
   ]
  }
 ],
 "metadata": {
  "language_info": {
   "name": "python"
  }
 },
 "nbformat": 4,
 "nbformat_minor": 2
}
