{
 "cells": [
  {
   "cell_type": "code",
   "execution_count": null,
   "metadata": {},
   "outputs": [],
   "source": [
    "# https://leetcode.com/problems/number-of-atoms/description/\n",
    "import collections\n",
    "\n",
    "class Solution:\n",
    "    def countOfAtoms(self, formula: str) -> str:\n",
    "        dic, coeff = collections.defaultdict(int), 1\n",
    "        stack, elem = [], \"\"\n",
    "        cnt, i = 0, 0\n",
    "        \n",
    "        for c in formula[::-1]:\n",
    "            if c.isdigit():\n",
    "                cnt += int(c) * (10 ** i)\n",
    "                i += 1\n",
    "            elif c == \")\":\n",
    "                stack.append(cnt or 1)  # Handle the case where cnt is 0\n",
    "                coeff *= stack[-1]\n",
    "                i = cnt = 0\n",
    "            elif c == \"(\":\n",
    "                coeff //= stack.pop()\n",
    "                i = cnt = 0\n",
    "            elif c.isupper():\n",
    "                elem += c\n",
    "                dic[elem[::-1]] += (cnt or 1) * coeff\n",
    "                elem = \"\"\n",
    "                i = cnt = 0\n",
    "            elif c.islower():\n",
    "                elem += c\n",
    "        \n",
    "        return \"\".join(k + (str(v) if v > 1 else \"\") for k, v in sorted(dic.items()))\n"
   ]
  }
 ],
 "metadata": {
  "language_info": {
   "name": "python"
  }
 },
 "nbformat": 4,
 "nbformat_minor": 2
}
