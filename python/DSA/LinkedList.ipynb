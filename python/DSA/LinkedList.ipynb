{
 "cells": [
  {
   "cell_type": "code",
   "execution_count": null,
   "metadata": {},
   "outputs": [],
   "source": [
    "# https://leetcode.com/problems/copy-list-with-random-pointer/description/\n",
    "\n",
    "# use a hashmap to store the mapping of old node to new node\n",
    "class Solution:\n",
    "    def copyRandomList(self, head: 'Optional[Node]') -> 'Optional[Node]':\n",
    "        if not head:\n",
    "            return None\n",
    "        old_to_new = {}\n",
    "        \n",
    "        curr = head\n",
    "        while curr:\n",
    "            old_to_new[curr] = Node(curr.val)\n",
    "            curr = curr.next\n",
    "        \n",
    "        curr = head\n",
    "        while curr:\n",
    "            old_to_new[curr].next = old_to_new.get(curr.next)\n",
    "            old_to_new[curr].random = old_to_new.get(curr.random)\n",
    "            curr = curr.next\n",
    "            \n",
    "        return old_to_new[head]\n",
    "    \n",
    "# Interweaving\n",
    "\n",
    "class Solution:\n",
    "    def copyRandomList(self, head: 'Optional[Node]') -> 'Optional[Node]':\n",
    "        if not head:\n",
    "            return None\n",
    "        \n",
    "        curr = head\n",
    "        while curr:\n",
    "            new_node = Node(curr.val, curr.next)\n",
    "            curr.next = new_node\n",
    "            curr = new_node.next\n",
    "            \n",
    "        curr = head\n",
    "        while curr:\n",
    "            if curr.random:\n",
    "                curr.next.random = curr.random.next\n",
    "            curr = curr.next.next\n",
    "        \n",
    "        old_head = head\n",
    "        new_head = head.next\n",
    "        curr_old = old_head\n",
    "        curr_new = new_head\n",
    "        \n",
    "        while curr_old:\n",
    "            curr_old.next = curr_old.next.next\n",
    "            curr_new.next = curr_new.next.next if curr_new.next else None\n",
    "            curr_old = curr_old.next\n",
    "            curr_new = curr_new.next\n",
    "            \n",
    "        return new_head"
   ]
  },
  {
   "cell_type": "code",
   "execution_count": null,
   "metadata": {},
   "outputs": [],
   "source": []
  }
 ],
 "metadata": {
  "language_info": {
   "name": "python"
  }
 },
 "nbformat": 4,
 "nbformat_minor": 2
}
