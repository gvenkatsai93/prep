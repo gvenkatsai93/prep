{
 "cells": [
  {
   "cell_type": "code",
   "execution_count": 2,
   "metadata": {},
   "outputs": [
    {
     "name": "stdout",
     "output_type": "stream",
     "text": [
      "Converted 1python.ipynb to 1python.pdf\n",
      "Converted Array.ipynb to Array.pdf\n",
      "Converted BackTrack.ipynb to BackTrack.pdf\n",
      "Converted BinarySearch.ipynb to BinarySearch.pdf\n",
      "Converted BinarySearchTree.ipynb to BinarySearchTree.pdf\n",
      "Converted BinaryTree.ipynb to BinaryTree.pdf\n",
      "Converted Divide&Conquer.ipynb to Divide&Conquer.pdf\n"
     ]
    },
    {
     "name": "stderr",
     "output_type": "stream",
     "text": [
      "c:\\Users\\vesai\\AppData\\Local\\anaconda3\\Lib\\site-packages\\nbconvert\\utils\\pandoc.py:51: RuntimeWarning: You are using an unsupported version of pandoc (3.2).\n",
      "Your version must be at least (1.12.1) but less than (3.0.0).\n",
      "Refer to https://pandoc.org/installing.html.\n",
      "Continuing with doubts...\n",
      "  check_pandoc_version()\n"
     ]
    },
    {
     "name": "stdout",
     "output_type": "stream",
     "text": [
      "Converted DP.ipynb to DP.pdf\n",
      "Converted DyanmicProgramming2.ipynb to DyanmicProgramming2.pdf\n",
      "Converted Graph.ipynb to Graph.pdf\n",
      "Converted Greedy.ipynb to Greedy.pdf\n",
      "Converted LinkedList.ipynb to LinkedList.pdf\n",
      "Converted Math.ipynb to Math.pdf\n",
      "Converted Priority_Queue.ipynb to Priority_Queue.pdf\n",
      "Converted Recurrsion.ipynb to Recurrsion.pdf\n",
      "Converted SlidingWindow.ipynb to SlidingWindow.pdf\n",
      "Converted String.ipynb to String.pdf\n"
     ]
    }
   ],
   "source": [
    "import os\n",
    "import nbformat\n",
    "from nbconvert import PDFExporter\n",
    "\n",
    "# Define the directory containing the Jupyter notebooks\n",
    "notebook_dir = 'D:\\projects\\git_repo\\prep\\prep\\python\\DSA'\n",
    "pdf_dir = 'D:\\projects\\git_repo\\prep\\prep\\pdfs'\n",
    "# Create an instance of the PDFExporter\n",
    "pdf_exporter = PDFExporter()\n",
    "\n",
    "# Loop over all files in the directory\n",
    "for filename in os.listdir(notebook_dir):\n",
    "    if filename.endswith(\".ipynb\"):\n",
    "        # Construct the full path to the notebook file\n",
    "        notebook_path = os.path.join(notebook_dir, filename)\n",
    "        \n",
    "        # Read the notebook file\n",
    "        with open(notebook_path, 'r', encoding='utf-8') as notebook_file:\n",
    "            notebook_content = nbformat.read(notebook_file, as_version=4)\n",
    "        \n",
    "        # Convert the notebook to PDF\n",
    "        pdf_data, _ = pdf_exporter.from_notebook_node(notebook_content)\n",
    "        \n",
    "        # Define the output PDF file path\n",
    "        pdf_filename = os.path.splitext(filename)[0] + '.pdf'\n",
    "        pdf_path = os.path.join(pdf_dir, pdf_filename)\n",
    "        \n",
    "        # Write the PDF to file\n",
    "        with open(pdf_path, 'wb') as pdf_file:\n",
    "            pdf_file.write(pdf_data)\n",
    "        \n",
    "        print(f'Converted {filename} to {pdf_filename}')\n"
   ]
  },
  {
   "cell_type": "code",
   "execution_count": null,
   "metadata": {},
   "outputs": [],
   "source": []
  }
 ],
 "metadata": {
  "kernelspec": {
   "display_name": "base",
   "language": "python",
   "name": "python3"
  },
  "language_info": {
   "codemirror_mode": {
    "name": "ipython",
    "version": 3
   },
   "file_extension": ".py",
   "mimetype": "text/x-python",
   "name": "python",
   "nbconvert_exporter": "python",
   "pygments_lexer": "ipython3",
   "version": "3.11.4"
  }
 },
 "nbformat": 4,
 "nbformat_minor": 2
}
