{
 "cells": [
  {
   "cell_type": "code",
   "execution_count": null,
   "metadata": {},
   "outputs": [],
   "source": [
    "#### ARRAY"
   ]
  },
  {
   "cell_type": "code",
   "execution_count": null,
   "metadata": {},
   "outputs": [],
   "source": [
    "### https://leetcode.com/problems/count-k-subsequences-of-a-string-with-maximum-beauty/description/\n",
    "\n",
    "\"\"\"\n",
    "suppose we have s = \"aabbcc\", k = 3\n",
    "then we can have 2 * 2 * 2 = 8 subsequences\n",
    "\n",
    "Now s = \"aabbcc\", k = 2\n",
    "combination of 3 to fill two slots 3C2 = 3 times (2*2) = 3 * 4 = 12\n",
    "refer below explanation - https://leetcode.com/problems/count-k-subsequences-of-a-string-with-maximum-beauty/solutions/3993253/pictures-greedy-math-easy-to-understand-guaranteed/\n",
    "\n",
    "\"\"\"\n",
    "\n",
    "from math import comb\n",
    "from typing import Counter\n",
    "\n",
    "class Solution:\n",
    "    def countKSubsequencesWithMaxBeauty(self, s: str, k: int) -> int:\n",
    "        mod = 10 **9 + 7\n",
    "        counter = Counter(s)\n",
    "        if len(counter) < k : return 0\n",
    "        freq = Counter(counter.values())\n",
    "        pairs = list(sorted(freq.items(), reverse=True))\n",
    "        ans = 1\n",
    "        for fc, occ in pairs:\n",
    "            if occ <= k:\n",
    "                ans = (ans * pow(fc, occ, mod)) % mod\n",
    "                k -= occ\n",
    "            else:\n",
    "                ans = (ans * comb(occ, k) * pow(fc, k, mod)) % mod\n",
    "                break\n",
    "        \n",
    "        return ans % mod\n",
    "        "
   ]
  },
  {
   "cell_type": "markdown",
   "metadata": {},
   "source": []
  }
 ],
 "metadata": {
  "language_info": {
   "name": "python"
  }
 },
 "nbformat": 4,
 "nbformat_minor": 2
}
