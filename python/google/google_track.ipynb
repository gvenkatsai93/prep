{
 "cells": [
  {
   "cell_type": "markdown",
   "metadata": {},
   "source": [
    "# TODO\n",
    "\n",
    "\n",
    "* https://leetcode.com/problems/range-module/description/\n",
    "* https://leetcode.com/problems/text-justification/solutions/1243483/intuitive-code-with-explanation/\n",
    "* https://leetcode.com/problems/arithmetic-slices-ii-subsequence/description/\n",
    "* https://leetcode.com/problems/redundant-connection-ii/description/\n",
    "* https://leetcode.com/problems/longest-absolute-file-path/description/\n",
    "* https://leetcode.com/problems/2-keys-keyboard/description/\n",
    "* https://leetcode.com/problems/shortest-subarray-with-sum-at-least-k/description/\n",
    "* https://leetcode.com/problems/detect-squares/description/\n",
    "* https://leetcode.com/problems/find-all-possible-recipes-from-given-supplies/description/\n",
    "* https://leetcode.com/problems/partition-array-into-two-arrays-to-minimize-sum-difference/description/"
   ]
  },
  {
   "cell_type": "code",
   "execution_count": null,
   "metadata": {},
   "outputs": [],
   "source": [
    "# https://leetcode.com/problems/arithmetic-subarrays/description/"
   ]
  },
  {
   "cell_type": "code",
   "execution_count": null,
   "metadata": {},
   "outputs": [],
   "source": [
    "# https://leetcode.com/problems/arithmetic-subarrays/description/"
   ]
  },
  {
   "cell_type": "code",
   "execution_count": null,
   "metadata": {},
   "outputs": [],
   "source": [
    "# https://leetcode.com/problems/check-if-a-parentheses-string-can-be-valid/description/\n",
    "# 2116. Check if a Parentheses String Can Be Valid\n"
   ]
  },
  {
   "cell_type": "markdown",
   "metadata": {},
   "source": [
    "# Graph\n",
    "\n",
    "* https://leetcode.com/problems/maximum-number-of-achievable-transfer-requests/description/  (Backtracking)"
   ]
  },
  {
   "cell_type": "markdown",
   "metadata": {},
   "source": [
    "# Tree\n",
    "\n",
    "BFS\n",
    "\n",
    "* https://leetcode.com/problems/water-and-jug-problem/description/    \n",
    "\n",
    "* https://leetcode.com/problems/race-car/description/\n",
    "    - we are at speed = 1, pos = 0.\n",
    "    - either we go to pos = pos  speed, and speed = 2 * speed  -> A\n",
    "    - or we go to reverse if speed is postive (speed > 0) speed = -1 , else speed = 1\n",
    "    \n",
    "* https://github.com/doocs/leetcode/blob/main/solution/1700-1799/1730.Shortest%20Path%20to%20Get%20Food/README_EN.md\n",
    "\n",
    "DFS\n",
    "\n",
    "* https://leetcode.com/problems/print-binary-tree/description/\n"
   ]
  },
  {
   "cell_type": "markdown",
   "metadata": {},
   "source": [
    "# Sliding Window\n",
    "\n",
    "* https://leetcode.com/problems/longest-repeating-character-replacement/\n",
    "* https://leetcode.com/problems/constrained-subsequence-sum/"
   ]
  },
  {
   "cell_type": "markdown",
   "metadata": {},
   "source": [
    "# String\n",
    "* https://leetcode.com/problems/find-and-replace-in-string/description/\n",
    "* https://leetcode.com/problems/find-longest-special-substring-that-occurs-thrice-ii/description/  (TODO)"
   ]
  },
  {
   "cell_type": "markdown",
   "metadata": {},
   "source": []
  },
  {
   "cell_type": "markdown",
   "metadata": {},
   "source": [
    "# Dynamic Programming\n",
    "\n",
    "* https://doocs.github.io/leetcode/en/lc/1062/?h=longest+repeating  (Longest Repeating Substring)\n",
    "* https://leetcode.com/problems/smallest-sufficient-team/description/ (DP with two arrays choices, & and dp)\n"
   ]
  },
  {
   "cell_type": "markdown",
   "metadata": {},
   "source": []
  },
  {
   "cell_type": "markdown",
   "metadata": {},
   "source": [
    "# Trie \n",
    "\n",
    "* https://github.com/doocs/leetcode/blob/main/solution/0600-0699/0642.Design%20Search%20Autocomplete%20System/README_EN.md"
   ]
  },
  {
   "cell_type": "markdown",
   "metadata": {},
   "source": [
    "# Misc\n",
    "* https://leetcode.com/problems/find-the-closest-palindrome/description/   (TODO)"
   ]
  },
  {
   "cell_type": "code",
   "execution_count": 1,
   "metadata": {},
   "outputs": [
    {
     "name": "stdout",
     "output_type": "stream",
     "text": [
      "1\n",
      "2\n",
      "[20]\n",
      "[10, 30]\n"
     ]
    }
   ],
   "source": [
    "import bisect\n",
    "\n",
    "\n",
    "arr = [10, 20]\n",
    "left, right = 20, 30\n",
    "start = bisect.bisect_left(arr, left)\n",
    "print(start)\n",
    "end = bisect.bisect_right(arr, right)\n",
    "print(end)\n",
    "subArray = []\n",
    "if start % 2 == 0:\n",
    "    subArray.append(left)\n",
    "if end % 2 == 0:\n",
    "    subArray.append(right)\n",
    "\n",
    "print(arr[start:end])\n",
    "arr[start:end] = subArray\n",
    "print(arr)"
   ]
  },
  {
   "cell_type": "code",
   "execution_count": 1,
   "metadata": {},
   "outputs": [
    {
     "name": "stdout",
     "output_type": "stream",
     "text": [
      "6\n"
     ]
    }
   ],
   "source": [
    "from math import comb\n",
    "\n",
    "print(comb(4, 2))"
   ]
  },
  {
   "cell_type": "code",
   "execution_count": 6,
   "metadata": {},
   "outputs": [
    {
     "name": "stdout",
     "output_type": "stream",
     "text": [
      "Counter({'c': 2, 'b': 1, 'a': 1})\n",
      "Counter({1: 2, 2: 1})\n",
      "[(2, 1), (1, 2)]\n"
     ]
    }
   ],
   "source": [
    "from typing import Counter\n",
    "\n",
    "\n",
    "str1 = \"bcca\"\n",
    "c = Counter(str1)\n",
    "print(c)\n",
    "c = Counter(c.values())\n",
    "print(c)\n",
    "cs = list(sorted(c.items(), reverse=True))\n",
    "print(cs)"
   ]
  },
  {
   "cell_type": "code",
   "execution_count": 8,
   "metadata": {},
   "outputs": [
    {
     "name": "stdout",
     "output_type": "stream",
     "text": [
      "2 1 1\n",
      "2\n",
      "1 2 2\n",
      "4\n"
     ]
    }
   ],
   "source": [
    "def countKSubsequencesWithMaxBeauty(s: str, k: int) -> int:\n",
    "    mod = 10**9 + 7\n",
    "    counter = Counter(s)\n",
    "    if len(counter) < k: return 0\n",
    "    freq = Counter(counter.values())\n",
    "    pairs = list(sorted(freq.items(), reverse=True))\n",
    "    res = 1\n",
    "    for fc, occ in pairs:\n",
    "        print(fc, occ, res)\n",
    "        if occ <= k:\n",
    "            res = (res * pow(fc, occ, mod)) % mod\n",
    "            k -= occ\n",
    "            print(res)\n",
    "        else:\n",
    "            res = (res * comb(occ, k) * pow(fc, k, mod)) % mod\n",
    "            break\n",
    "    return res % mod\n",
    "\n",
    "print(countKSubsequencesWithMaxBeauty(\"bcca\", 2))\n"
   ]
  },
  {
   "cell_type": "code",
   "execution_count": null,
   "metadata": {},
   "outputs": [],
   "source": []
  }
 ],
 "metadata": {
  "kernelspec": {
   "display_name": "base",
   "language": "python",
   "name": "python3"
  },
  "language_info": {
   "codemirror_mode": {
    "name": "ipython",
    "version": 3
   },
   "file_extension": ".py",
   "mimetype": "text/x-python",
   "name": "python",
   "nbconvert_exporter": "python",
   "pygments_lexer": "ipython3",
   "version": "3.11.4"
  }
 },
 "nbformat": 4,
 "nbformat_minor": 2
}
